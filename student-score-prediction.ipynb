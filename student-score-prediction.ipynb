{
 "cells": [
  {
   "cell_type": "code",
   "execution_count": 1,
   "id": "3258ae31",
   "metadata": {
    "_cell_guid": "b1076dfc-b9ad-4769-8c92-a6c4dae69d19",
    "_uuid": "8f2839f25d086af736a60e9eeb907d3b93b6e0e5",
    "execution": {
     "iopub.execute_input": "2025-09-05T10:39:42.162933Z",
     "iopub.status.busy": "2025-09-05T10:39:42.162585Z",
     "iopub.status.idle": "2025-09-05T10:39:44.157866Z",
     "shell.execute_reply": "2025-09-05T10:39:44.156561Z"
    },
    "papermill": {
     "duration": 2.002359,
     "end_time": "2025-09-05T10:39:44.159528",
     "exception": false,
     "start_time": "2025-09-05T10:39:42.157169",
     "status": "completed"
    },
    "tags": []
   },
   "outputs": [
    {
     "name": "stdout",
     "output_type": "stream",
     "text": [
      "/kaggle/input/student-performance-factors/StudentPerformanceFactors.csv\n"
     ]
    }
   ],
   "source": [
    "# This Python 3 environment comes with many helpful analytics libraries installed\n",
    "# It is defined by the kaggle/python Docker image: https://github.com/kaggle/docker-python\n",
    "# For example, here's several helpful packages to load\n",
    "\n",
    "import numpy as np # linear algebra\n",
    "import pandas as pd # data processing, CSV file I/O (e.g. pd.read_csv)\n",
    "\n",
    "# Input data files are available in the read-only \"../input/\" directory\n",
    "# For example, running this (by clicking run or pressing Shift+Enter) will list all files under the input directory\n",
    "\n",
    "import os\n",
    "for dirname, _, filenames in os.walk('/kaggle/input'):\n",
    "    for filename in filenames:\n",
    "        print(os.path.join(dirname, filename))\n",
    "\n",
    "# You can write up to 20GB to the current directory (/kaggle/working/) that gets preserved as output when you create a version using \"Save & Run All\" \n",
    "# You can also write temporary files to /kaggle/temp/, but they won't be saved outside of the current session"
   ]
  },
  {
   "cell_type": "code",
   "execution_count": 2,
   "id": "796d0f34",
   "metadata": {
    "execution": {
     "iopub.execute_input": "2025-09-05T10:39:44.168714Z",
     "iopub.status.busy": "2025-09-05T10:39:44.168291Z",
     "iopub.status.idle": "2025-09-05T10:39:46.665524Z",
     "shell.execute_reply": "2025-09-05T10:39:46.664386Z"
    },
    "papermill": {
     "duration": 2.503619,
     "end_time": "2025-09-05T10:39:46.667285",
     "exception": false,
     "start_time": "2025-09-05T10:39:44.163666",
     "status": "completed"
    },
    "tags": []
   },
   "outputs": [],
   "source": [
    "import pandas as pd\n",
    "import matplotlib.pyplot as plt\n",
    "import seaborn as sns\n",
    "from sklearn.model_selection import train_test_split\n",
    "from sklearn.linear_model import LinearRegression\n",
    "from sklearn.metrics import mean_absolute_error, r2_score"
   ]
  },
  {
   "cell_type": "code",
   "execution_count": 3,
   "id": "05a78863",
   "metadata": {
    "execution": {
     "iopub.execute_input": "2025-09-05T10:39:46.676454Z",
     "iopub.status.busy": "2025-09-05T10:39:46.675952Z",
     "iopub.status.idle": "2025-09-05T10:39:46.735656Z",
     "shell.execute_reply": "2025-09-05T10:39:46.734681Z"
    },
    "papermill": {
     "duration": 0.06621,
     "end_time": "2025-09-05T10:39:46.737489",
     "exception": false,
     "start_time": "2025-09-05T10:39:46.671279",
     "status": "completed"
    },
    "tags": []
   },
   "outputs": [],
   "source": [
    "df = pd.read_csv(\"/kaggle/input/student-performance-factors/StudentPerformanceFactors.csv\")  "
   ]
  },
  {
   "cell_type": "code",
   "execution_count": 4,
   "id": "8d717847",
   "metadata": {
    "execution": {
     "iopub.execute_input": "2025-09-05T10:39:46.746376Z",
     "iopub.status.busy": "2025-09-05T10:39:46.746064Z",
     "iopub.status.idle": "2025-09-05T10:39:46.764198Z",
     "shell.execute_reply": "2025-09-05T10:39:46.763090Z"
    },
    "papermill": {
     "duration": 0.024485,
     "end_time": "2025-09-05T10:39:46.765786",
     "exception": false,
     "start_time": "2025-09-05T10:39:46.741301",
     "status": "completed"
    },
    "tags": []
   },
   "outputs": [
    {
     "name": "stdout",
     "output_type": "stream",
     "text": [
      "   Hours_Studied  Attendance Parental_Involvement Access_to_Resources  \\\n",
      "0             23          84                  Low                High   \n",
      "1             19          64                  Low              Medium   \n",
      "2             24          98               Medium              Medium   \n",
      "3             29          89                  Low              Medium   \n",
      "4             19          92               Medium              Medium   \n",
      "\n",
      "  Extracurricular_Activities  Sleep_Hours  Previous_Scores Motivation_Level  \\\n",
      "0                         No            7               73              Low   \n",
      "1                         No            8               59              Low   \n",
      "2                        Yes            7               91           Medium   \n",
      "3                        Yes            8               98           Medium   \n",
      "4                        Yes            6               65           Medium   \n",
      "\n",
      "  Internet_Access  Tutoring_Sessions Family_Income Teacher_Quality  \\\n",
      "0             Yes                  0           Low          Medium   \n",
      "1             Yes                  2        Medium          Medium   \n",
      "2             Yes                  2        Medium          Medium   \n",
      "3             Yes                  1        Medium          Medium   \n",
      "4             Yes                  3        Medium            High   \n",
      "\n",
      "  School_Type Peer_Influence  Physical_Activity Learning_Disabilities  \\\n",
      "0      Public       Positive                  3                    No   \n",
      "1      Public       Negative                  4                    No   \n",
      "2      Public        Neutral                  4                    No   \n",
      "3      Public       Negative                  4                    No   \n",
      "4      Public        Neutral                  4                    No   \n",
      "\n",
      "  Parental_Education_Level Distance_from_Home  Gender  Exam_Score  \n",
      "0              High School               Near    Male          67  \n",
      "1                  College           Moderate  Female          61  \n",
      "2             Postgraduate               Near    Male          74  \n",
      "3              High School           Moderate    Male          71  \n",
      "4                  College               Near  Female          70  \n"
     ]
    }
   ],
   "source": [
    "print(df.head())"
   ]
  },
  {
   "cell_type": "code",
   "execution_count": 5,
   "id": "b511532f",
   "metadata": {
    "execution": {
     "iopub.execute_input": "2025-09-05T10:39:46.774834Z",
     "iopub.status.busy": "2025-09-05T10:39:46.774530Z",
     "iopub.status.idle": "2025-09-05T10:39:46.802466Z",
     "shell.execute_reply": "2025-09-05T10:39:46.801520Z"
    },
    "papermill": {
     "duration": 0.03425,
     "end_time": "2025-09-05T10:39:46.804075",
     "exception": false,
     "start_time": "2025-09-05T10:39:46.769825",
     "status": "completed"
    },
    "tags": []
   },
   "outputs": [
    {
     "name": "stdout",
     "output_type": "stream",
     "text": [
      "<class 'pandas.core.frame.DataFrame'>\n",
      "RangeIndex: 6607 entries, 0 to 6606\n",
      "Data columns (total 20 columns):\n",
      " #   Column                      Non-Null Count  Dtype \n",
      "---  ------                      --------------  ----- \n",
      " 0   Hours_Studied               6607 non-null   int64 \n",
      " 1   Attendance                  6607 non-null   int64 \n",
      " 2   Parental_Involvement        6607 non-null   object\n",
      " 3   Access_to_Resources         6607 non-null   object\n",
      " 4   Extracurricular_Activities  6607 non-null   object\n",
      " 5   Sleep_Hours                 6607 non-null   int64 \n",
      " 6   Previous_Scores             6607 non-null   int64 \n",
      " 7   Motivation_Level            6607 non-null   object\n",
      " 8   Internet_Access             6607 non-null   object\n",
      " 9   Tutoring_Sessions           6607 non-null   int64 \n",
      " 10  Family_Income               6607 non-null   object\n",
      " 11  Teacher_Quality             6529 non-null   object\n",
      " 12  School_Type                 6607 non-null   object\n",
      " 13  Peer_Influence              6607 non-null   object\n",
      " 14  Physical_Activity           6607 non-null   int64 \n",
      " 15  Learning_Disabilities       6607 non-null   object\n",
      " 16  Parental_Education_Level    6517 non-null   object\n",
      " 17  Distance_from_Home          6540 non-null   object\n",
      " 18  Gender                      6607 non-null   object\n",
      " 19  Exam_Score                  6607 non-null   int64 \n",
      "dtypes: int64(7), object(13)\n",
      "memory usage: 1.0+ MB\n",
      "None\n"
     ]
    }
   ],
   "source": [
    "print(df.info())"
   ]
  },
  {
   "cell_type": "code",
   "execution_count": 6,
   "id": "6084236a",
   "metadata": {
    "execution": {
     "iopub.execute_input": "2025-09-05T10:39:46.812657Z",
     "iopub.status.busy": "2025-09-05T10:39:46.812337Z",
     "iopub.status.idle": "2025-09-05T10:39:46.842854Z",
     "shell.execute_reply": "2025-09-05T10:39:46.841704Z"
    },
    "papermill": {
     "duration": 0.036848,
     "end_time": "2025-09-05T10:39:46.844717",
     "exception": false,
     "start_time": "2025-09-05T10:39:46.807869",
     "status": "completed"
    },
    "tags": []
   },
   "outputs": [
    {
     "name": "stdout",
     "output_type": "stream",
     "text": [
      "       Hours_Studied   Attendance  Sleep_Hours  Previous_Scores  \\\n",
      "count    6607.000000  6607.000000   6607.00000      6607.000000   \n",
      "mean       19.975329    79.977448      7.02906        75.070531   \n",
      "std         5.990594    11.547475      1.46812        14.399784   \n",
      "min         1.000000    60.000000      4.00000        50.000000   \n",
      "25%        16.000000    70.000000      6.00000        63.000000   \n",
      "50%        20.000000    80.000000      7.00000        75.000000   \n",
      "75%        24.000000    90.000000      8.00000        88.000000   \n",
      "max        44.000000   100.000000     10.00000       100.000000   \n",
      "\n",
      "       Tutoring_Sessions  Physical_Activity   Exam_Score  \n",
      "count        6607.000000        6607.000000  6607.000000  \n",
      "mean            1.493719           2.967610    67.235659  \n",
      "std             1.230570           1.031231     3.890456  \n",
      "min             0.000000           0.000000    55.000000  \n",
      "25%             1.000000           2.000000    65.000000  \n",
      "50%             1.000000           3.000000    67.000000  \n",
      "75%             2.000000           4.000000    69.000000  \n",
      "max             8.000000           6.000000   101.000000  \n"
     ]
    }
   ],
   "source": [
    "print(df.describe())"
   ]
  },
  {
   "cell_type": "code",
   "execution_count": 7,
   "id": "c73cbb64",
   "metadata": {
    "execution": {
     "iopub.execute_input": "2025-09-05T10:39:46.853737Z",
     "iopub.status.busy": "2025-09-05T10:39:46.853425Z",
     "iopub.status.idle": "2025-09-05T10:39:46.864942Z",
     "shell.execute_reply": "2025-09-05T10:39:46.863941Z"
    },
    "papermill": {
     "duration": 0.017683,
     "end_time": "2025-09-05T10:39:46.866421",
     "exception": false,
     "start_time": "2025-09-05T10:39:46.848738",
     "status": "completed"
    },
    "tags": []
   },
   "outputs": [
    {
     "name": "stdout",
     "output_type": "stream",
     "text": [
      "Hours_Studied                  0\n",
      "Attendance                     0\n",
      "Parental_Involvement           0\n",
      "Access_to_Resources            0\n",
      "Extracurricular_Activities     0\n",
      "Sleep_Hours                    0\n",
      "Previous_Scores                0\n",
      "Motivation_Level               0\n",
      "Internet_Access                0\n",
      "Tutoring_Sessions              0\n",
      "Family_Income                  0\n",
      "Teacher_Quality               78\n",
      "School_Type                    0\n",
      "Peer_Influence                 0\n",
      "Physical_Activity              0\n",
      "Learning_Disabilities          0\n",
      "Parental_Education_Level      90\n",
      "Distance_from_Home            67\n",
      "Gender                         0\n",
      "Exam_Score                     0\n",
      "dtype: int64\n"
     ]
    }
   ],
   "source": [
    "print(df.isnull().sum())"
   ]
  },
  {
   "cell_type": "code",
   "execution_count": 8,
   "id": "2b5d2474",
   "metadata": {
    "execution": {
     "iopub.execute_input": "2025-09-05T10:39:46.875997Z",
     "iopub.status.busy": "2025-09-05T10:39:46.875616Z",
     "iopub.status.idle": "2025-09-05T10:39:47.189927Z",
     "shell.execute_reply": "2025-09-05T10:39:47.189012Z"
    },
    "papermill": {
     "duration": 0.3211,
     "end_time": "2025-09-05T10:39:47.191686",
     "exception": false,
     "start_time": "2025-09-05T10:39:46.870586",
     "status": "completed"
    },
    "tags": []
   },
   "outputs": [
    {
     "data": {
      "image/png": "[encoded data removed]",
      "text/plain": [
       "<Figure size 640x480 with 1 Axes>"
      ]
     },
     "metadata": {},
     "output_type": "display_data"
    }
   ],
   "source": [
    "sns.scatterplot(x=df[\"Hours_Studied\"], y=df[\"Exam_Score\"])\n",
    "plt.title(\"Study Hours vs Exam Score\")\n",
    "plt.show()"
   ]
  },
  {
   "cell_type": "code",
   "execution_count": 9,
   "id": "301259fe",
   "metadata": {
    "execution": {
     "iopub.execute_input": "2025-09-05T10:39:47.203414Z",
     "iopub.status.busy": "2025-09-05T10:39:47.202737Z",
     "iopub.status.idle": "2025-09-05T10:39:47.208511Z",
     "shell.execute_reply": "2025-09-05T10:39:47.207638Z"
    },
    "papermill": {
     "duration": 0.013201,
     "end_time": "2025-09-05T10:39:47.209912",
     "exception": false,
     "start_time": "2025-09-05T10:39:47.196711",
     "status": "completed"
    },
    "tags": []
   },
   "outputs": [],
   "source": [
    "X = df[[\"Hours_Studied\"]]\n",
    "y = df[\"Exam_Score\"] "
   ]
  },
  {
   "cell_type": "code",
   "execution_count": 10,
   "id": "6bb524f3",
   "metadata": {
    "execution": {
     "iopub.execute_input": "2025-09-05T10:39:47.220630Z",
     "iopub.status.busy": "2025-09-05T10:39:47.220302Z",
     "iopub.status.idle": "2025-09-05T10:39:47.228343Z",
     "shell.execute_reply": "2025-09-05T10:39:47.227444Z"
    },
    "papermill": {
     "duration": 0.015452,
     "end_time": "2025-09-05T10:39:47.230286",
     "exception": false,
     "start_time": "2025-09-05T10:39:47.214834",
     "status": "completed"
    },
    "tags": []
   },
   "outputs": [],
   "source": [
    "X_train, X_test, y_train, y_test = train_test_split(X, y, test_size=0.2, random_state=42)"
   ]
  },
  {
   "cell_type": "code",
   "execution_count": 11,
   "id": "3315485f",
   "metadata": {
    "execution": {
     "iopub.execute_input": "2025-09-05T10:39:47.241401Z",
     "iopub.status.busy": "2025-09-05T10:39:47.241095Z",
     "iopub.status.idle": "2025-09-05T10:39:47.267636Z",
     "shell.execute_reply": "2025-09-05T10:39:47.266665Z"
    },
    "papermill": {
     "duration": 0.033539,
     "end_time": "2025-09-05T10:39:47.269286",
     "exception": false,
     "start_time": "2025-09-05T10:39:47.235747",
     "status": "completed"
    },
    "tags": []
   },
   "outputs": [
    {
     "data": {
      "text/html": [
       "<style>#sk-container-id-1 {color: black;background-color: white;}#sk-container-id-1 pre{padding: 0;}#sk-container-id-1 div.sk-toggleable {background-color: white;}#sk-container-id-1 label.sk-toggleable__label {cursor: pointer;display: block;width: 100%;margin-bottom: 0;padding: 0.3em;box-sizing: border-box;text-align: center;}#sk-container-id-1 label.sk-toggleable__label-arrow:before {content: \"▸\";float: left;margin-right: 0.25em;color: #696969;}#sk-container-id-1 label.sk-toggleable__label-arrow:hover:before {color: black;}#sk-container-id-1 div.sk-estimator:hover label.sk-toggleable__label-arrow:before {color: black;}#sk-container-id-1 div.sk-toggleable__content {max-height: 0;max-width: 0;overflow: hidden;text-align: left;background-color: #f0f8ff;}#sk-container-id-1 div.sk-toggleable__content pre {margin: 0.2em;color: black;border-radius: 0.25em;background-color: #f0f8ff;}#sk-container-id-1 input.sk-toggleable__control:checked~div.sk-toggleable__content {max-height: 200px;max-width: 100%;overflow: auto;}#sk-container-id-1 input.sk-toggleable__control:checked~label.sk-toggleable__label-arrow:before {content: \"▾\";}#sk-container-id-1 div.sk-estimator input.sk-toggleable__control:checked~label.sk-toggleable__label {background-color: #d4ebff;}#sk-container-id-1 div.sk-label input.sk-toggleable__control:checked~label.sk-toggleable__label {background-color: #d4ebff;}#sk-container-id-1 input.sk-hidden--visually {border: 0;clip: rect(1px 1px 1px 1px);clip: rect(1px, 1px, 1px, 1px);height: 1px;margin: -1px;overflow: hidden;padding: 0;position: absolute;width: 1px;}#sk-container-id-1 div.sk-estimator {font-family: monospace;background-color: #f0f8ff;border: 1px dotted black;border-radius: 0.25em;box-sizing: border-box;margin-bottom: 0.5em;}#sk-container-id-1 div.sk-estimator:hover {background-color: #d4ebff;}#sk-container-id-1 div.sk-parallel-item::after {content: \"\";width: 100%;border-bottom: 1px solid gray;flex-grow: 1;}#sk-container-id-1 div.sk-label:hover label.sk-toggleable__label {background-color: #d4ebff;}#sk-container-id-1 div.sk-serial::before {content: \"\";position: absolute;border-left: 1px solid gray;box-sizing: border-box;top: 0;bottom: 0;left: 50%;z-index: 0;}#sk-container-id-1 div.sk-serial {display: flex;flex-direction: column;align-items: center;background-color: white;padding-right: 0.2em;padding-left: 0.2em;position: relative;}#sk-container-id-1 div.sk-item {position: relative;z-index: 1;}#sk-container-id-1 div.sk-parallel {display: flex;align-items: stretch;justify-content: center;background-color: white;position: relative;}#sk-container-id-1 div.sk-item::before, #sk-container-id-1 div.sk-parallel-item::before {content: \"\";position: absolute;border-left: 1px solid gray;box-sizing: border-box;top: 0;bottom: 0;left: 50%;z-index: -1;}#sk-container-id-1 div.sk-parallel-item {display: flex;flex-direction: column;z-index: 1;position: relative;background-color: white;}#sk-container-id-1 div.sk-parallel-item:first-child::after {align-self: flex-end;width: 50%;}#sk-container-id-1 div.sk-parallel-item:last-child::after {align-self: flex-start;width: 50%;}#sk-container-id-1 div.sk-parallel-item:only-child::after {width: 0;}#sk-container-id-1 div.sk-dashed-wrapped {border: 1px dashed gray;margin: 0 0.4em 0.5em 0.4em;box-sizing: border-box;padding-bottom: 0.4em;background-color: white;}#sk-container-id-1 div.sk-label label {font-family: monospace;font-weight: bold;display: inline-block;line-height: 1.2em;}#sk-container-id-1 div.sk-label-container {text-align: center;}#sk-container-id-1 div.sk-container {/* jupyter's `normalize.less` sets `[hidden] { display: none; }` but bootstrap.min.css set `[hidden] { display: none !important; }` so we also need the `!important` here to be able to override the default hidden behavior on the sphinx rendered scikit-learn.org. See: https://github.com/scikit-learn/scikit-learn/issues/21755 */display: inline-block !important;position: relative;}#sk-container-id-1 div.sk-text-repr-fallback {display: none;}</style><div id=\"sk-container-id-1\" class=\"sk-top-container\"><div class=\"sk-text-repr-fallback\"><pre>LinearRegression()</pre><b>In a Jupyter environment, please rerun this cell to show the HTML representation or trust the notebook. <br />On GitHub, the HTML representation is unable to render, please try loading this page with nbviewer.org.</b></div><div class=\"sk-container\" hidden><div class=\"sk-item\"><div class=\"sk-estimator sk-toggleable\"><input class=\"sk-toggleable__control sk-hidden--visually\" id=\"sk-estimator-id-1\" type=\"checkbox\" checked><label for=\"sk-estimator-id-1\" class=\"sk-toggleable__label sk-toggleable__label-arrow\">LinearRegression</label><div class=\"sk-toggleable__content\"><pre>LinearRegression()</pre></div></div></div></div></div>"
      ],
      "text/plain": [
       "LinearRegression()"
      ]
     },
     "execution_count": 11,
     "metadata": {},
     "output_type": "execute_result"
    }
   ],
   "source": [
    "model = LinearRegression()\n",
    "model.fit(X_train, y_train)"
   ]
  },
  {
   "cell_type": "code",
   "execution_count": 12,
   "id": "a3f29e7e",
   "metadata": {
    "execution": {
     "iopub.execute_input": "2025-09-05T10:39:47.280707Z",
     "iopub.status.busy": "2025-09-05T10:39:47.280273Z",
     "iopub.status.idle": "2025-09-05T10:39:47.286284Z",
     "shell.execute_reply": "2025-09-05T10:39:47.285622Z"
    },
    "papermill": {
     "duration": 0.013411,
     "end_time": "2025-09-05T10:39:47.287751",
     "exception": false,
     "start_time": "2025-09-05T10:39:47.274340",
     "status": "completed"
    },
    "tags": []
   },
   "outputs": [],
   "source": [
    "y_pred = model.predict(X_test)"
   ]
  },
  {
   "cell_type": "code",
   "execution_count": 13,
   "id": "94e8b4bf",
   "metadata": {
    "execution": {
     "iopub.execute_input": "2025-09-05T10:39:47.298979Z",
     "iopub.status.busy": "2025-09-05T10:39:47.298516Z",
     "iopub.status.idle": "2025-09-05T10:39:47.306981Z",
     "shell.execute_reply": "2025-09-05T10:39:47.305741Z"
    },
    "papermill": {
     "duration": 0.015885,
     "end_time": "2025-09-05T10:39:47.308473",
     "exception": false,
     "start_time": "2025-09-05T10:39:47.292588",
     "status": "completed"
    },
    "tags": []
   },
   "outputs": [
    {
     "name": "stdout",
     "output_type": "stream",
     "text": [
      "Mean Absolute Error: 2.4475687452945643\n",
      "R² Score: 0.2319868674542106\n"
     ]
    }
   ],
   "source": [
    "print(\"Mean Absolute Error:\", mean_absolute_error(y_test, y_pred))\n",
    "print(\"R² Score:\", r2_score(y_test, y_pred))"
   ]
  },
  {
   "cell_type": "code",
   "execution_count": 14,
   "id": "af9269bd",
   "metadata": {
    "execution": {
     "iopub.execute_input": "2025-09-05T10:39:47.320030Z",
     "iopub.status.busy": "2025-09-05T10:39:47.319395Z",
     "iopub.status.idle": "2025-09-05T10:39:47.326151Z",
     "shell.execute_reply": "2025-09-05T10:39:47.325332Z"
    },
    "papermill": {
     "duration": 0.014105,
     "end_time": "2025-09-05T10:39:47.327509",
     "exception": false,
     "start_time": "2025-09-05T10:39:47.313404",
     "status": "completed"
    },
    "tags": []
   },
   "outputs": [
    {
     "name": "stdout",
     "output_type": "stream",
     "text": [
      "MSE: 10.85592128879332\n"
     ]
    }
   ],
   "source": [
    "from sklearn.metrics import mean_squared_error\n",
    "print(\"MSE:\", mean_squared_error(y_test, y_pred))"
   ]
  },
  {
   "cell_type": "code",
   "execution_count": 15,
   "id": "46625ae6",
   "metadata": {
    "execution": {
     "iopub.execute_input": "2025-09-05T10:39:47.338777Z",
     "iopub.status.busy": "2025-09-05T10:39:47.338452Z",
     "iopub.status.idle": "2025-09-05T10:39:47.344792Z",
     "shell.execute_reply": "2025-09-05T10:39:47.343757Z"
    },
    "papermill": {
     "duration": 0.013999,
     "end_time": "2025-09-05T10:39:47.346485",
     "exception": false,
     "start_time": "2025-09-05T10:39:47.332486",
     "status": "completed"
    },
    "tags": []
   },
   "outputs": [
    {
     "name": "stdout",
     "output_type": "stream",
     "text": [
      "RMSE: 3.294832513010839\n"
     ]
    }
   ],
   "source": [
    "import numpy as np\n",
    "print(\"RMSE:\", np.sqrt(mean_squared_error(y_test, y_pred)))"
   ]
  },
  {
   "cell_type": "code",
   "execution_count": 16,
   "id": "953d3906",
   "metadata": {
    "execution": {
     "iopub.execute_input": "2025-09-05T10:39:47.358015Z",
     "iopub.status.busy": "2025-09-05T10:39:47.357664Z",
     "iopub.status.idle": "2025-09-05T10:39:47.539592Z",
     "shell.execute_reply": "2025-09-05T10:39:47.538493Z"
    },
    "papermill": {
     "duration": 0.189502,
     "end_time": "2025-09-05T10:39:47.541117",
     "exception": false,
     "start_time": "2025-09-05T10:39:47.351615",
     "status": "completed"
    },
    "tags": []
   },
   "outputs": [
    {
     "data": {
      "image/png": "[encoded data removed]",
      "text/plain": [
       "<Figure size 640x480 with 1 Axes>"
      ]
     },
     "metadata": {},
     "output_type": "display_data"
    }
   ],
   "source": [
    "plt.scatter(y_test, y_pred)\n",
    "plt.xlabel(\"Actual Scores\")\n",
    "plt.ylabel(\"Predicted Scores\")\n",
    "plt.title(\"Actual vs Predicted\")\n",
    "plt.show()"
   ]
  },
  {
   "cell_type": "code",
   "execution_count": 17,
   "id": "aaca468f",
   "metadata": {
    "execution": {
     "iopub.execute_input": "2025-09-05T10:39:47.554491Z",
     "iopub.status.busy": "2025-09-05T10:39:47.554151Z",
     "iopub.status.idle": "2025-09-05T10:39:47.747589Z",
     "shell.execute_reply": "2025-09-05T10:39:47.746619Z"
    },
    "papermill": {
     "duration": 0.202155,
     "end_time": "2025-09-05T10:39:47.749148",
     "exception": false,
     "start_time": "2025-09-05T10:39:47.546993",
     "status": "completed"
    },
    "tags": []
   },
   "outputs": [
    {
     "data": {
      "image/png": "[encoded data removed]",
      "text/plain": [
       "<Figure size 640x480 with 1 Axes>"
      ]
     },
     "metadata": {},
     "output_type": "display_data"
    }
   ],
   "source": [
    "residuals = y_test - y_pred\n",
    "plt.hist(residuals, bins=20, edgecolor=\"black\")\n",
    "plt.title(\"Residuals Distribution\")\n",
    "plt.show()"
   ]
  },
  {
   "cell_type": "code",
   "execution_count": null,
   "id": "fea903ed",
   "metadata": {
    "papermill": {
     "duration": 0.005721,
     "end_time": "2025-09-05T10:39:47.761040",
     "exception": false,
     "start_time": "2025-09-05T10:39:47.755319",
     "status": "completed"
    },
    "tags": []
   },
   "outputs": [],
   "source": []
  },
  {
   "cell_type": "code",
   "execution_count": null,
   "id": "41f6946f",
   "metadata": {
    "papermill": {
     "duration": 0.005499,
     "end_time": "2025-09-05T10:39:47.772281",
     "exception": false,
     "start_time": "2025-09-05T10:39:47.766782",
     "status": "completed"
    },
    "tags": []
   },
   "outputs": [],
   "source": []
  }
 ],
 "metadata": {
  "kaggle": {
   "accelerator": "none",
   "dataSources": [
    {
     "datasetId": 5630996,
     "sourceId": 12822442,
     "sourceType": "datasetVersion"
    }
   ],
   "dockerImageVersionId": 31089,
   "isGpuEnabled": false,
   "isInternetEnabled": true,
   "language": "python",
   "sourceType": "notebook"
  },
  "kernelspec": {
   "display_name": "Python 3",
   "language": "python",
   "name": "python3"
  },
  "language_info": {
   "codemirror_mode": {
    "name": "ipython",
    "version": 3
   },
   "file_extension": ".py",
   "mimetype": "text/x-python",
   "name": "python",
   "nbconvert_exporter": "python",
   "pygments_lexer": "ipython3",
   "version": "3.11.13"
  },
  "papermill": {
   "default_parameters": {},
   "duration": 11.956625,
   "end_time": "2025-09-05T10:39:48.499762",
   "environment_variables": {},
   "exception": null,
   "input_path": "__notebook__.ipynb",
   "output_path": "__notebook__.ipynb",
   "parameters": {},
   "start_time": "2025-09-05T10:39:36.543137",
   "version": "2.6.0"
  }
 },
 "nbformat": 4,
 "nbformat_minor": 5
}
